{
 "cells": [
  {
   "cell_type": "code",
   "execution_count": 1,
   "id": "2cd9c5d6",
   "metadata": {},
   "outputs": [
    {
     "data": {
      "text/html": [
       "\n",
       "        <div>\n",
       "            <p><b>SparkContext</b></p>\n",
       "\n",
       "            <p><a href=\"http://kinxps:4041\">Spark UI</a></p>\n",
       "\n",
       "            <dl>\n",
       "              <dt>Version</dt>\n",
       "                <dd><code>v3.1.2</code></dd>\n",
       "              <dt>Master</dt>\n",
       "                <dd><code>local[2]</code></dd>\n",
       "              <dt>AppName</dt>\n",
       "                <dd><code>PySparkShell</code></dd>\n",
       "            </dl>\n",
       "        </div>\n",
       "        "
      ],
      "text/plain": [
       "<SparkContext master=local[2] appName=PySparkShell>"
      ]
     },
     "execution_count": 1,
     "metadata": {},
     "output_type": "execute_result"
    }
   ],
   "source": [
    "sc"
   ]
  },
  {
   "cell_type": "markdown",
   "id": "af3d6da1",
   "metadata": {},
   "source": [
    "### Create dataframe"
   ]
  },
  {
   "cell_type": "code",
   "execution_count": 2,
   "id": "75ebde89",
   "metadata": {},
   "outputs": [],
   "source": [
    "header = ['city', 'type', 'price']"
   ]
  },
  {
   "cell_type": "code",
   "execution_count": 23,
   "id": "c5715d23",
   "metadata": {},
   "outputs": [],
   "source": [
    "data   = map(lambda r: (r[0], r[1], float(r[2])), #header\n",
    "  map(lambda x: x.split(\",\"),  #contents\n",
    "    [\"Paris,Food,19.00\", \"Marseille,Clothing,12.00\",\n",
    "     \"Paris,Food,8.00\", \"Paris,Clothing,15.00\",\n",
    "     \"Marseille,Food,20.00\", \"Lyon,Book,10.00\"]))\n",
    "df = spark.createDataFrame(data, header)  #create the dataframe"
   ]
  },
  {
   "cell_type": "code",
   "execution_count": 24,
   "id": "18cefed5",
   "metadata": {},
   "outputs": [
    {
     "name": "stdout",
     "output_type": "stream",
     "text": [
      "+---------+--------+-----+\n",
      "|     city|    type|price|\n",
      "+---------+--------+-----+\n",
      "|    Paris|    Food| 19.0|\n",
      "|Marseille|Clothing| 12.0|\n",
      "|    Paris|    Food|  8.0|\n",
      "|    Paris|Clothing| 15.0|\n",
      "|Marseille|    Food| 20.0|\n",
      "|     Lyon|    Book| 10.0|\n",
      "+---------+--------+-----+\n",
      "\n"
     ]
    }
   ],
   "source": [
    "df.show()"
   ]
  },
  {
   "cell_type": "markdown",
   "id": "e727506d",
   "metadata": {},
   "source": [
    "##### Take "
   ]
  },
  {
   "cell_type": "code",
   "execution_count": 25,
   "id": "89ed857c",
   "metadata": {},
   "outputs": [
    {
     "data": {
      "text/plain": [
       "[Row(city='Paris', type='Food', price=19.0),\n",
       " Row(city='Marseille', type='Clothing', price=12.0)]"
      ]
     },
     "execution_count": 25,
     "metadata": {},
     "output_type": "execute_result"
    }
   ],
   "source": [
    "df.take(2)"
   ]
  },
  {
   "cell_type": "code",
   "execution_count": 26,
   "id": "2f820864",
   "metadata": {},
   "outputs": [
    {
     "name": "stdout",
     "output_type": "stream",
     "text": [
      "root\n",
      " |-- city: string (nullable = true)\n",
      " |-- type: string (nullable = true)\n",
      " |-- price: double (nullable = true)\n",
      "\n"
     ]
    }
   ],
   "source": [
    "df.printSchema()"
   ]
  },
  {
   "cell_type": "code",
   "execution_count": 30,
   "id": "c8dbc665",
   "metadata": {},
   "outputs": [
    {
     "name": "stdout",
     "output_type": "stream",
     "text": [
      "('city', 'string')\n",
      "('type', 'string')\n",
      "('price', 'double')\n"
     ]
    }
   ],
   "source": [
    "for x in df.dtypes:\n",
    "    print(x)"
   ]
  },
  {
   "cell_type": "markdown",
   "id": "37fa3a0d",
   "metadata": {},
   "source": [
    "#### Selecting Columns"
   ]
  },
  {
   "cell_type": "code",
   "execution_count": 31,
   "id": "3e3ec0fe",
   "metadata": {},
   "outputs": [
    {
     "name": "stdout",
     "output_type": "stream",
     "text": [
      "+---------+--------+-----+\n",
      "|     city|    type|price|\n",
      "+---------+--------+-----+\n",
      "|    Paris|    Food| 19.0|\n",
      "|Marseille|Clothing| 12.0|\n",
      "|    Paris|    Food|  8.0|\n",
      "|    Paris|Clothing| 15.0|\n",
      "|Marseille|    Food| 20.0|\n",
      "|     Lyon|    Book| 10.0|\n",
      "+---------+--------+-----+\n",
      "\n"
     ]
    }
   ],
   "source": [
    "from pyspark.sql.types import StringType, FloatType, StructType, StructField\n",
    "data = map(lambda r: (r[0], r[1], float(r[2])),\n",
    "  map(lambda x: x.split(\",\"),\n",
    "    [\"Paris,Food,19.00\", \"Marseille,Clothing,12.00\",\n",
    "     \"Paris,Food,8.00\", \"Paris,Clothing,15.00\",\n",
    "     \"Marseille,Food,20.00\", \"Lyon,Book,10.00\"]))\n",
    "\n",
    "schema = StructType([\n",
    "\tStructField(\"city\",  StringType(), nullable=True),\n",
    "\tStructField(\"type\",  StringType(), nullable=True),\n",
    "\tStructField(\"price\", FloatType(),  nullable=True)\n",
    "])\n",
    "\n",
    "df = spark.createDataFrame(data, schema=schema)\n",
    "df.show()"
   ]
  },
  {
   "cell_type": "code",
   "execution_count": null,
   "id": "aca87163",
   "metadata": {},
   "outputs": [],
   "source": []
  },
  {
   "cell_type": "code",
   "execution_count": null,
   "id": "92e45b92",
   "metadata": {},
   "outputs": [],
   "source": []
  },
  {
   "cell_type": "code",
   "execution_count": null,
   "id": "9938127e",
   "metadata": {},
   "outputs": [],
   "source": []
  },
  {
   "cell_type": "code",
   "execution_count": null,
   "id": "b9a3f758",
   "metadata": {},
   "outputs": [],
   "source": []
  },
  {
   "cell_type": "code",
   "execution_count": null,
   "id": "cc2d8b4c",
   "metadata": {},
   "outputs": [],
   "source": []
  }
 ],
 "metadata": {
  "kernelspec": {
   "display_name": "Python 3",
   "language": "python",
   "name": "python3"
  },
  "language_info": {
   "codemirror_mode": {
    "name": "ipython",
    "version": 3
   },
   "file_extension": ".py",
   "mimetype": "text/x-python",
   "name": "python",
   "nbconvert_exporter": "python",
   "pygments_lexer": "ipython3",
   "version": "3.7.7"
  }
 },
 "nbformat": 4,
 "nbformat_minor": 5
}
