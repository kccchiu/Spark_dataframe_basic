{
  "nbformat": 4,
  "nbformat_minor": 0,
  "metadata": {
    "colab": {
      "name": "Tree with Dog Food.ipynb",
      "provenance": [],
      "collapsed_sections": [],
      "authorship_tag": "ABX9TyNTHBvCoH/CwxmRp5HR7EeR",
      "include_colab_link": true
    },
    "kernelspec": {
      "name": "python3",
      "display_name": "Python 3"
    },
    "language_info": {
      "name": "python"
    }
  },
  "cells": [
    {
      "cell_type": "markdown",
      "metadata": {
        "id": "view-in-github",
        "colab_type": "text"
      },
      "source": [
        "<a href=\"https://colab.research.google.com/github/kccchiu/Spark_dataframe_basic/blob/main/binary_tree_with_Dog_Food.ipynb\" target=\"_parent\"><img src=\"https://colab.research.google.com/assets/colab-badge.svg\" alt=\"Open In Colab\"/></a>"
      ]
    },
    {
      "cell_type": "code",
      "source": [
        "!pip install pyspark py4j"
      ],
      "metadata": {
        "colab": {
          "base_uri": "https://localhost:8080/"
        },
        "id": "60JrlG0vHea8",
        "outputId": "0426668c-6829-450c-ae22-652b2600106f"
      },
      "execution_count": 22,
      "outputs": [
        {
          "output_type": "stream",
          "name": "stdout",
          "text": [
            "Looking in indexes: https://pypi.org/simple, https://us-python.pkg.dev/colab-wheels/public/simple/\n",
            "Requirement already satisfied: pyspark in /usr/local/lib/python3.7/dist-packages (3.2.1)\n",
            "Requirement already satisfied: py4j in /usr/local/lib/python3.7/dist-packages (0.10.9.3)\n"
          ]
        }
      ]
    },
    {
      "cell_type": "markdown",
      "source": [
        "### Setup"
      ],
      "metadata": {
        "id": "W8AZJlabRPG9"
      }
    },
    {
      "cell_type": "code",
      "execution_count": 23,
      "metadata": {
        "id": "yV5_hPubHUc_"
      },
      "outputs": [],
      "source": [
        "from pyspark.sql import SparkSession\n",
        "spark = SparkSession.builder.appName('dog-food').getOrCreate()"
      ]
    },
    {
      "cell_type": "code",
      "source": [
        "df = spark.read.csv('dog_food.csv', inferSchema=True, header=True)"
      ],
      "metadata": {
        "id": "xo4vONCcHmeE"
      },
      "execution_count": 24,
      "outputs": []
    },
    {
      "cell_type": "code",
      "source": [
        "df.printSchema()"
      ],
      "metadata": {
        "colab": {
          "base_uri": "https://localhost:8080/"
        },
        "id": "yw0xX1RfIPlm",
        "outputId": "227da1e0-7089-4aef-9ce7-75869024bd53"
      },
      "execution_count": 25,
      "outputs": [
        {
          "output_type": "stream",
          "name": "stdout",
          "text": [
            "root\n",
            " |-- A: integer (nullable = true)\n",
            " |-- B: integer (nullable = true)\n",
            " |-- C: double (nullable = true)\n",
            " |-- D: integer (nullable = true)\n",
            " |-- Spoiled: double (nullable = true)\n",
            "\n"
          ]
        }
      ]
    },
    {
      "cell_type": "markdown",
      "source": [
        "### Create Features"
      ],
      "metadata": {
        "id": "-N6BDvUURLvu"
      }
    },
    {
      "cell_type": "code",
      "source": [
        "from pyspark.ml.feature import VectorAssembler\n",
        "assembler = VectorAssembler(inputCols=['A', 'B', 'C', 'D'],\n",
        "                            outputCol='features')\n",
        "output = assembler.transform(df)\n",
        "data = output.select('features', 'Spoiled')\n",
        "train, test = data.randomSplit([0.7, 0.3], seed=123)\n",
        "print(train.show(5), test.show(5))"
      ],
      "metadata": {
        "colab": {
          "base_uri": "https://localhost:8080/"
        },
        "id": "bjLbxS4nIPi0",
        "outputId": "88d02939-8b6e-4d92-96b9-2e33f911a04e"
      },
      "execution_count": 26,
      "outputs": [
        {
          "output_type": "stream",
          "name": "stdout",
          "text": [
            "+------------------+-------+\n",
            "|          features|Spoiled|\n",
            "+------------------+-------+\n",
            "|[1.0,1.0,10.0,8.0]|    1.0|\n",
            "|[1.0,1.0,12.0,2.0]|    1.0|\n",
            "|[1.0,1.0,13.0,3.0]|    1.0|\n",
            "| [1.0,2.0,9.0,1.0]|    0.0|\n",
            "| [1.0,2.0,9.0,4.0]|    0.0|\n",
            "+------------------+-------+\n",
            "only showing top 5 rows\n",
            "\n",
            "+------------------+-------+\n",
            "|          features|Spoiled|\n",
            "+------------------+-------+\n",
            "|[1.0,1.0,12.0,4.0]|    1.0|\n",
            "| [1.0,3.0,8.0,3.0]|    0.0|\n",
            "| [1.0,4.0,8.0,1.0]|    0.0|\n",
            "| [1.0,4.0,9.0,3.0]|    0.0|\n",
            "| [1.0,4.0,9.0,6.0]|    0.0|\n",
            "+------------------+-------+\n",
            "only showing top 5 rows\n",
            "\n",
            "None None\n"
          ]
        }
      ]
    },
    {
      "cell_type": "markdown",
      "source": [
        "### Classifiers"
      ],
      "metadata": {
        "id": "0cyT6F2ORR_h"
      }
    },
    {
      "cell_type": "code",
      "source": [
        "from pyspark.ml.classification import DecisionTreeClassifier, RandomForestClassifier"
      ],
      "metadata": {
        "id": "wNIQykMcIPgX"
      },
      "execution_count": 27,
      "outputs": []
    },
    {
      "cell_type": "code",
      "source": [
        "dtc = DecisionTreeClassifier(featuresCol='features', labelCol='Spoiled')"
      ],
      "metadata": {
        "id": "rRJDx0V3IPdz"
      },
      "execution_count": 28,
      "outputs": []
    },
    {
      "cell_type": "code",
      "source": [
        "dtc_model = dtc.fit(train)"
      ],
      "metadata": {
        "id": "4_rvC87yIPY9"
      },
      "execution_count": 30,
      "outputs": []
    },
    {
      "cell_type": "code",
      "source": [
        "pred = dtc_model.transform(test)"
      ],
      "metadata": {
        "id": "LPxwsvSEftBO"
      },
      "execution_count": 32,
      "outputs": []
    },
    {
      "cell_type": "code",
      "source": [
        "pred.show(5)"
      ],
      "metadata": {
        "colab": {
          "base_uri": "https://localhost:8080/"
        },
        "id": "U7M0XVs9j97z",
        "outputId": "ff264ad6-c26a-4b26-aaed-cf68484a3968"
      },
      "execution_count": 38,
      "outputs": [
        {
          "output_type": "stream",
          "name": "stdout",
          "text": [
            "+------------------+-------+-------------+-----------+----------+\n",
            "|          features|Spoiled|rawPrediction|probability|prediction|\n",
            "+------------------+-------+-------------+-----------+----------+\n",
            "|[1.0,1.0,12.0,4.0]|    1.0|   [0.0,66.0]|  [0.0,1.0]|       1.0|\n",
            "| [1.0,3.0,8.0,3.0]|    0.0|  [187.0,0.0]|  [1.0,0.0]|       0.0|\n",
            "| [1.0,4.0,8.0,1.0]|    0.0|   [33.0,0.0]|  [1.0,0.0]|       0.0|\n",
            "| [1.0,4.0,9.0,3.0]|    0.0|  [187.0,0.0]|  [1.0,0.0]|       0.0|\n",
            "| [1.0,4.0,9.0,6.0]|    0.0|  [187.0,0.0]|  [1.0,0.0]|       0.0|\n",
            "+------------------+-------+-------------+-----------+----------+\n",
            "only showing top 5 rows\n",
            "\n"
          ]
        }
      ]
    },
    {
      "cell_type": "code",
      "source": [
        "test.select('Spoiled').distinct().show()\n",
        "\n",
        "#Use Binary instead of Multiclass\n",
        "# from pyspark.ml.evaluation import MulticlassClassificationEvaluator\n",
        "from pyspark.ml.evaluation import BinaryClassificationEvaluator\n",
        "# from pyspark.mllib.evaluation import BinaryClassificationMetrics"
      ],
      "metadata": {
        "colab": {
          "base_uri": "https://localhost:8080/"
        },
        "id": "JtLJ1ZIKfz7Q",
        "outputId": "c5fd5b44-d71b-4103-d591-0fe942b5650a"
      },
      "execution_count": 43,
      "outputs": [
        {
          "output_type": "stream",
          "name": "stdout",
          "text": [
            "+-------+\n",
            "|Spoiled|\n",
            "+-------+\n",
            "|    0.0|\n",
            "|    1.0|\n",
            "+-------+\n",
            "\n"
          ]
        }
      ]
    },
    {
      "cell_type": "code",
      "source": [
        "eval = BinaryClassificationEvaluator(labelCol='Spoiled')"
      ],
      "metadata": {
        "id": "Ck0Og4Qxfzyb"
      },
      "execution_count": 39,
      "outputs": []
    },
    {
      "cell_type": "code",
      "source": [
        "print(eval.evaluate(pred, {eval.metricName: 'areaUnderROC'}))\n",
        "print(eval.evaluate(pred, {eval.metricName: 'areaUnderPR'}))"
      ],
      "metadata": {
        "colab": {
          "base_uri": "https://localhost:8080/"
        },
        "id": "nlZXvXkJkoB4",
        "outputId": "405cb822-582a-42cd-889c-f047d2a9046b"
      },
      "execution_count": 44,
      "outputs": [
        {
          "output_type": "stream",
          "name": "stdout",
          "text": [
            "0.9954322638146167\n",
            "0.9898120982008025\n"
          ]
        }
      ]
    },
    {
      "cell_type": "code",
      "source": [
        "dtc_model.featureImportances"
      ],
      "metadata": {
        "colab": {
          "base_uri": "https://localhost:8080/"
        },
        "id": "3Y5jbqDTIPWS",
        "outputId": "62178f66-2cba-4349-b986-7aee4fa16963"
      },
      "execution_count": 40,
      "outputs": [
        {
          "output_type": "execute_result",
          "data": {
            "text/plain": [
              "SparseVector(4, {0: 0.0167, 1: 0.0187, 2: 0.9532, 3: 0.0115})"
            ]
          },
          "metadata": {},
          "execution_count": 40
        }
      ]
    },
    {
      "cell_type": "markdown",
      "source": [
        "#### Random Forest Classifier"
      ],
      "metadata": {
        "id": "t-1eIFeMP7zB"
      }
    },
    {
      "cell_type": "code",
      "source": [
        "rfc = RandomForestClassifier(featuresCol='features', labelCol='Spoiled')\n",
        "rfc_model = rfc.fit(train)\n",
        "pred = rfc_model.transform(test)"
      ],
      "metadata": {
        "id": "R9MdtDK4P66l"
      },
      "execution_count": 47,
      "outputs": []
    },
    {
      "cell_type": "code",
      "source": [
        "rfc_model.featureImportances"
      ],
      "metadata": {
        "colab": {
          "base_uri": "https://localhost:8080/"
        },
        "id": "vpnTm9ozQhLW",
        "outputId": "ff2e752e-c17b-47d6-eecd-87a7951adc9b"
      },
      "execution_count": 48,
      "outputs": [
        {
          "output_type": "execute_result",
          "data": {
            "text/plain": [
              "SparseVector(4, {0: 0.0327, 1: 0.0167, 2: 0.9226, 3: 0.0279})"
            ]
          },
          "metadata": {},
          "execution_count": 48
        }
      ]
    },
    {
      "cell_type": "code",
      "source": [
        "pred.show()"
      ],
      "metadata": {
        "colab": {
          "base_uri": "https://localhost:8080/"
        },
        "id": "g4xUwyZhQP_W",
        "outputId": "571ffc21-1d10-4097-9c61-affc774f7ec5"
      },
      "execution_count": 49,
      "outputs": [
        {
          "output_type": "stream",
          "name": "stdout",
          "text": [
            "+-------------------+-------+--------------------+--------------------+----------+\n",
            "|           features|Spoiled|       rawPrediction|         probability|prediction|\n",
            "+-------------------+-------+--------------------+--------------------+----------+\n",
            "| [1.0,1.0,12.0,4.0]|    1.0|[0.10001193342460...|[0.00500059667123...|       1.0|\n",
            "|  [1.0,3.0,8.0,3.0]|    0.0|[19.6981854412714...|[0.98490927206357...|       0.0|\n",
            "|  [1.0,4.0,8.0,1.0]|    0.0|[19.3174128402741...|[0.96587064201370...|       0.0|\n",
            "|  [1.0,4.0,9.0,3.0]|    0.0|[19.6981854412714...|[0.98490927206357...|       0.0|\n",
            "|  [1.0,4.0,9.0,6.0]|    0.0|[19.9041793504629...|[0.99520896752314...|       0.0|\n",
            "|[1.0,5.0,12.0,10.0]|    1.0|[0.07065587281854...|[0.00353279364092...|       1.0|\n",
            "|  [1.0,6.0,8.0,9.0]|    0.0|[19.9327507790344...|[0.99663753895172...|       0.0|\n",
            "| [1.0,7.0,11.0,9.0]|    1.0|[0.07065587281854...|[0.00353279364092...|       1.0|\n",
            "|[1.0,7.0,11.0,10.0]|    1.0|[1.07065587281854...|[0.05353279364092...|       1.0|\n",
            "|  [1.0,8.0,8.0,6.0]|    0.0|[19.9327507790344...|[0.99663753895172...|       0.0|\n",
            "|  [1.0,8.0,8.0,7.0]|    0.0|[19.9327507790344...|[0.99663753895172...|       0.0|\n",
            "|  [1.0,8.0,8.0,8.0]|    0.0|[19.9327507790344...|[0.99663753895172...|       0.0|\n",
            "|  [1.0,9.0,7.0,5.0]|    0.0|[19.9113417295354...|[0.99556708647677...|       0.0|\n",
            "| [1.0,9.0,10.0,6.0]|    0.0|[16.6030980495980...|[0.83015490247990...|       0.0|\n",
            "|  [2.0,1.0,8.0,9.0]|    0.0|[18.7625735372890...|[0.93812867686445...|       0.0|\n",
            "|  [2.0,1.0,9.0,1.0]|    0.0|[18.1263564776496...|[0.90631782388248...|       0.0|\n",
            "|  [2.0,2.0,9.0,8.0]|    0.0|[19.8954836982890...|[0.99477418491445...|       0.0|\n",
            "| [2.0,3.0,7.0,10.0]|    0.0|[19.9010702904678...|[0.99505351452339...|       0.0|\n",
            "|  [2.0,3.0,9.0,3.0]|    0.0|[19.6894897890974...|[0.98447448945487...|       0.0|\n",
            "| [2.0,3.0,12.0,3.0]|    1.0|[0.10001193342460...|[0.00500059667123...|       1.0|\n",
            "+-------------------+-------+--------------------+--------------------+----------+\n",
            "only showing top 20 rows\n",
            "\n"
          ]
        }
      ]
    }
  ]
}